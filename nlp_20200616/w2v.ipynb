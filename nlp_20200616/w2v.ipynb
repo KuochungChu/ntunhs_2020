{
 "cells": [
  {
   "cell_type": "code",
   "execution_count": 29,
   "metadata": {},
   "outputs": [],
   "source": [
    "import pandas as pd\n",
    "df=pd.read_excel('Dcard.xlsx', header=0)  "
   ]
  },
  {
   "cell_type": "code",
   "execution_count": 67,
   "metadata": {},
   "outputs": [
    {
     "data": {
      "text/html": [
       "<div>\n",
       "<style scoped>\n",
       "    .dataframe tbody tr th:only-of-type {\n",
       "        vertical-align: middle;\n",
       "    }\n",
       "\n",
       "    .dataframe tbody tr th {\n",
       "        vertical-align: top;\n",
       "    }\n",
       "\n",
       "    .dataframe thead th {\n",
       "        text-align: right;\n",
       "    }\n",
       "</style>\n",
       "<table border=\"1\" class=\"dataframe\">\n",
       "  <thead>\n",
       "    <tr style=\"text-align: right;\">\n",
       "      <th></th>\n",
       "      <th>Unnamed: 0</th>\n",
       "      <th>title</th>\n",
       "      <th>content</th>\n",
       "      <th>createdAt</th>\n",
       "      <th>depression</th>\n",
       "    </tr>\n",
       "  </thead>\n",
       "  <tbody>\n",
       "    <tr>\n",
       "      <th>1</th>\n",
       "      <td>1.0</td>\n",
       "      <td>我的故事還在堅持 #第一章</td>\n",
       "      <td>嗨，妳好，展開笑容揮手。這一向是我面對朋友親戚外人的第一反應。我想打完我至今的故事。因為也許...</td>\n",
       "      <td>2018-09-30T16:44:54.678Z</td>\n",
       "      <td>1</td>\n",
       "    </tr>\n",
       "    <tr>\n",
       "      <th>2</th>\n",
       "      <td>2.0</td>\n",
       "      <td>反正你們不會知道</td>\n",
       "      <td>最近陷入低潮，這低潮沒有人知道因為我還沒有勇氣對身邊的人提起人群恐慌症重度憂鬱症光是練習說出...</td>\n",
       "      <td>2019-05-10T14:01:24.268Z</td>\n",
       "      <td>1</td>\n",
       "    </tr>\n",
       "    <tr>\n",
       "      <th>3</th>\n",
       "      <td>3.0</td>\n",
       "      <td>快樂是什麼？</td>\n",
       "      <td>本人20歲，是個重度憂鬱症的患者曾經自殺被阻止過，也好幾個月都不出門由於家庭因素、國小(中)...</td>\n",
       "      <td>2018-10-18T08:02:50.729Z</td>\n",
       "      <td>1</td>\n",
       "    </tr>\n",
       "    <tr>\n",
       "      <th>4</th>\n",
       "      <td>4.0</td>\n",
       "      <td>我是重鬱者，我復發了！</td>\n",
       "      <td>去年的時候，我自殺了。最近，家裡鬧得很兇，很厲害。我選擇封鎖，因為每天，我的手機一直響。這舉...</td>\n",
       "      <td>2018-11-29T08:29:39.523Z</td>\n",
       "      <td>1</td>\n",
       "    </tr>\n",
       "    <tr>\n",
       "      <th>5</th>\n",
       "      <td>5.0</td>\n",
       "      <td>如何幫助重度憂鬱症？</td>\n",
       "      <td>男友是一個重度憂鬱.焦慮症的患者...有去看過身心科了但藥量一直增加（大概持續吃一年多了）常...</td>\n",
       "      <td>2019-10-29T12:34:41.719Z</td>\n",
       "      <td>1</td>\n",
       "    </tr>\n",
       "  </tbody>\n",
       "</table>\n",
       "</div>"
      ],
      "text/plain": [
       "   Unnamed: 0          title  \\\n",
       "1         1.0  我的故事還在堅持 #第一章   \n",
       "2         2.0       反正你們不會知道   \n",
       "3         3.0         快樂是什麼？   \n",
       "4         4.0    我是重鬱者，我復發了！   \n",
       "5         5.0     如何幫助重度憂鬱症？   \n",
       "\n",
       "                                             content  \\\n",
       "1  嗨，妳好，展開笑容揮手。這一向是我面對朋友親戚外人的第一反應。我想打完我至今的故事。因為也許...   \n",
       "2  最近陷入低潮，這低潮沒有人知道因為我還沒有勇氣對身邊的人提起人群恐慌症重度憂鬱症光是練習說出...   \n",
       "3  本人20歲，是個重度憂鬱症的患者曾經自殺被阻止過，也好幾個月都不出門由於家庭因素、國小(中)...   \n",
       "4  去年的時候，我自殺了。最近，家裡鬧得很兇，很厲害。我選擇封鎖，因為每天，我的手機一直響。這舉...   \n",
       "5  男友是一個重度憂鬱.焦慮症的患者...有去看過身心科了但藥量一直增加（大概持續吃一年多了）常...   \n",
       "\n",
       "                  createdAt depression  \n",
       "1  2018-09-30T16:44:54.678Z          1  \n",
       "2  2019-05-10T14:01:24.268Z          1  \n",
       "3  2018-10-18T08:02:50.729Z          1  \n",
       "4  2018-11-29T08:29:39.523Z          1  \n",
       "5  2019-10-29T12:34:41.719Z          1  "
      ]
     },
     "execution_count": 67,
     "metadata": {},
     "output_type": "execute_result"
    }
   ],
   "source": [
    "df=df.dropna()\n",
    "df.head(5)"
   ]
  },
  {
   "cell_type": "code",
   "execution_count": 68,
   "metadata": {},
   "outputs": [],
   "source": [
    "df['content']=df['content'].apply(lambda x: x.replace('\\n',''))"
   ]
  },
  {
   "cell_type": "code",
   "execution_count": 69,
   "metadata": {},
   "outputs": [],
   "source": [
    "from ckiptagger import data_utils\n",
    "from ckiptagger import WS, POS, NER\n",
    "ws=WS(\"C:/Users/Lenovo/Documents/code/fb_Carrefour/data\")\n",
    "pos=POS(\"C:/Users/Lenovo/Documents/code/fb_Carrefour/data\")\n",
    "ner=NER(\"C:/Users/Lenovo/Documents/code/fb_Carrefour/data\")"
   ]
  },
  {
   "cell_type": "code",
   "execution_count": 70,
   "metadata": {},
   "outputs": [],
   "source": [
    "def about_ner(text):\n",
    "    \n",
    "    if str(text)=='nan':\n",
    "        return ''\n",
    "    \n",
    "    ws_results=ws([text])\n",
    "    pos_results=pos(ws_results)\n",
    "    \n",
    "    res=[]\n",
    "    for i in zip(ws_results[0], pos_results[0]):\n",
    "        if (i[1]=='Na' or i[1]=='Nb' or i[1]=='Nc' or i[1]=='ORG' or i[1]=='GPE' or i[1]=='FAC' or\\\n",
    "            i[1]=='NORP' or i[1]=='PERSON' or i[1]=='VC'):\n",
    "            res.append(i[0])\n",
    "    return res"
   ]
  },
  {
   "cell_type": "code",
   "execution_count": 71,
   "metadata": {},
   "outputs": [],
   "source": [
    "res=[]\n",
    "res.append(df['content'].apply(lambda x: ','.join(about_ner(x))))"
   ]
  },
  {
   "cell_type": "code",
   "execution_count": 128,
   "metadata": {},
   "outputs": [
    {
     "data": {
      "text/plain": [
       "1     展開,笑容,面對,朋友,親戚,外人,反應,打完,故事,選擇,人,事,閨蜜,訊息,風格,事情,...\n",
       "2     低潮,低潮,人,勇氣,身邊,人,人群,恐慌症,憂鬱症,練習,字,眼淚,控制,學生,時期,言語...\n",
       "3     憂鬱症,患者,阻止,月,家庭,因素,國小,單親,家庭,主義,者,凡事,心,世上,壓力,放,身...\n",
       "4     時候,家,鬧,選擇,封鎖,手機,舉動,引來,親戚,反應,批判,做,事情,選擇,親戚,封鎖,家...\n",
       "5     男友,焦慮症,患者,看過,身心科,藥量,吃,胸,心臟痛,吃,止痛藥,男友,可能,氣,醫生,幫...\n",
       "6     揮,手,展開,笑顏,前提,補充,媽,精神,狀態,人,舉動,哥哥,人,人,人,”,插,手管,事...\n",
       "7                                          重鬱症,權利,藥物,輔助\n",
       "8        世界,人,意外,人,時候,病痛,折磨,呼吸,浪費,生命,人,人,拜託,夢,人,祝福,病痛,身\n",
       "9                 老師,條件,學校,呼吸,位子,宿舍,換,室友,人,世界,末日,找,工作,做\n",
       "10    人們,到,光芒,找到,方法,做,傷到,凶宅,責怪,月,方法,人生,眼淚,面試,工作,時候,正...\n",
       "11    寵物,靈性,病症,人,腦袋,胸,呼吸,心理,狀態,眼淚,眼眶,關,燈,床,貓貓,腳,踩,腳,...\n",
       "12    世界,時候,精神科,醫生,精神病院,確診,憂鬱症,確診,躁鬱症,疾病,老師,誘姦,強暴,精神...\n",
       "13    人,機會,歉,看,標題,點進來,希望,解,事,文章,解,撐,憂鬱症,心理,疾病,醫生,協助,...\n",
       "Name: content, dtype: object"
      ]
     },
     "execution_count": 128,
     "metadata": {},
     "output_type": "execute_result"
    }
   ],
   "source": [
    "res[0]"
   ]
  },
  {
   "cell_type": "code",
   "execution_count": 136,
   "metadata": {},
   "outputs": [],
   "source": [
    "from gensim.models.word2vec import Word2Vec\n",
    "\n",
    "model = Word2Vec(res[0])\n",
    "#sg=0以CBOW來訓練\n",
    "#sg=1以Skip-gram來訓練\n",
    "#Skip-gram比CBOW通常對低頻詞有更好的訓練效果\n",
    "model_d250 = Word2Vec(res[0], size=250, iter=10, sg=0)\n",
    "\n",
    "#其他參數\n",
    "#size=100 => 詞向量的維度大小，維度太小會無法有效表達詞與詞的關係，維度太大會使關係太稀疏而難以找出規則\n",
    "#iter=5 => 訓練的回數，訓練過少會使得詞關係過為鬆散，訓練過度又會使得詞關係過為極端\n",
    "#window=5 => CBOW下決定Word2Vec一次取五詞來預測中間詞，Skip-gram下決定Word2Vec用一個詞，找出附近的五個詞\n",
    "#min_count=5 => 出現次數大於等於min_count的詞，才會納入Word2Vec的詞典中\n",
    "#max_vocab_size=None => Word2Vec的詞典容納上限，出現次數最低的詞會優先被剔除\n",
    "#negative=5 => Sampling的取樣數量，5~20適合小數據，2~5適合大數據\n",
    "#workers=3 => 執行核心數量"
   ]
  },
  {
   "cell_type": "code",
   "execution_count": 130,
   "metadata": {},
   "outputs": [],
   "source": [
    "def most_similar(w2v_model, words, topn=10):\n",
    "    similar_df = pd.DataFrame()\n",
    "    for word in words:\n",
    "        try:\n",
    "            similar_words = pd.DataFrame(w2v_model.wv.most_similar(word, topn=topn), columns=[word, 'cos'])\n",
    "            similar_df = pd.concat([similar_df, similar_words], axis=1)\n",
    "        except:\n",
    "            print(word, \"not found in Word2Vec model!\")\n",
    "    return similar_df"
   ]
  },
  {
   "cell_type": "code",
   "execution_count": 133,
   "metadata": {},
   "outputs": [
    {
     "name": "stdout",
     "output_type": "stream",
     "text": [
      "生病 not found in Word2Vec model!\n"
     ]
    },
    {
     "data": {
      "text/html": [
       "<div>\n",
       "<style scoped>\n",
       "    .dataframe tbody tr th:only-of-type {\n",
       "        vertical-align: middle;\n",
       "    }\n",
       "\n",
       "    .dataframe tbody tr th {\n",
       "        vertical-align: top;\n",
       "    }\n",
       "\n",
       "    .dataframe thead th {\n",
       "        text-align: right;\n",
       "    }\n",
       "</style>\n",
       "<table border=\"1\" class=\"dataframe\">\n",
       "  <thead>\n",
       "    <tr style=\"text-align: right;\">\n",
       "      <th></th>\n",
       "    </tr>\n",
       "  </thead>\n",
       "  <tbody>\n",
       "  </tbody>\n",
       "</table>\n",
       "</div>"
      ],
      "text/plain": [
       "Empty DataFrame\n",
       "Columns: []\n",
       "Index: []"
      ]
     },
     "execution_count": 133,
     "metadata": {},
     "output_type": "execute_result"
    }
   ],
   "source": [
    "most_similar(model, ['生病'])\n"
   ]
  },
  {
   "cell_type": "code",
   "execution_count": 137,
   "metadata": {},
   "outputs": [
    {
     "data": {
      "text/html": [
       "<div>\n",
       "<style scoped>\n",
       "    .dataframe tbody tr th:only-of-type {\n",
       "        vertical-align: middle;\n",
       "    }\n",
       "\n",
       "    .dataframe tbody tr th {\n",
       "        vertical-align: top;\n",
       "    }\n",
       "\n",
       "    .dataframe thead th {\n",
       "        text-align: right;\n",
       "    }\n",
       "</style>\n",
       "<table border=\"1\" class=\"dataframe\">\n",
       "  <thead>\n",
       "    <tr style=\"text-align: right;\">\n",
       "      <th></th>\n",
       "      <th>人</th>\n",
       "      <th>cos</th>\n",
       "      <th>情</th>\n",
       "      <th>cos</th>\n",
       "      <th>心</th>\n",
       "      <th>cos</th>\n",
       "    </tr>\n",
       "  </thead>\n",
       "  <tbody>\n",
       "    <tr>\n",
       "      <th>0</th>\n",
       "      <td>,</td>\n",
       "      <td>0.999920</td>\n",
       "      <td>,</td>\n",
       "      <td>0.999928</td>\n",
       "      <td>,</td>\n",
       "      <td>0.999921</td>\n",
       "    </tr>\n",
       "    <tr>\n",
       "      <th>1</th>\n",
       "      <td>情</td>\n",
       "      <td>0.999863</td>\n",
       "      <td>子</td>\n",
       "      <td>0.999874</td>\n",
       "      <td>情</td>\n",
       "      <td>0.999870</td>\n",
       "    </tr>\n",
       "    <tr>\n",
       "      <th>2</th>\n",
       "      <td>心</td>\n",
       "      <td>0.999863</td>\n",
       "      <td>心</td>\n",
       "      <td>0.999870</td>\n",
       "      <td>人</td>\n",
       "      <td>0.999863</td>\n",
       "    </tr>\n",
       "    <tr>\n",
       "      <th>3</th>\n",
       "      <td>眼</td>\n",
       "      <td>0.999862</td>\n",
       "      <td>人</td>\n",
       "      <td>0.999863</td>\n",
       "      <td>貓</td>\n",
       "      <td>0.999857</td>\n",
       "    </tr>\n",
       "    <tr>\n",
       "      <th>4</th>\n",
       "      <td>病</td>\n",
       "      <td>0.999852</td>\n",
       "      <td>病</td>\n",
       "      <td>0.999861</td>\n",
       "      <td>症</td>\n",
       "      <td>0.999853</td>\n",
       "    </tr>\n",
       "    <tr>\n",
       "      <th>5</th>\n",
       "      <td>子</td>\n",
       "      <td>0.999852</td>\n",
       "      <td>時</td>\n",
       "      <td>0.999856</td>\n",
       "      <td>舉</td>\n",
       "      <td>0.999853</td>\n",
       "    </tr>\n",
       "    <tr>\n",
       "      <th>6</th>\n",
       "      <td>生</td>\n",
       "      <td>0.999850</td>\n",
       "      <td>眼</td>\n",
       "      <td>0.999854</td>\n",
       "      <td>子</td>\n",
       "      <td>0.999852</td>\n",
       "    </tr>\n",
       "    <tr>\n",
       "      <th>7</th>\n",
       "      <td>症</td>\n",
       "      <td>0.999848</td>\n",
       "      <td>症</td>\n",
       "      <td>0.999846</td>\n",
       "      <td>時</td>\n",
       "      <td>0.999851</td>\n",
       "    </tr>\n",
       "    <tr>\n",
       "      <th>8</th>\n",
       "      <td>貓</td>\n",
       "      <td>0.999846</td>\n",
       "      <td>家</td>\n",
       "      <td>0.999845</td>\n",
       "      <td>生</td>\n",
       "      <td>0.999851</td>\n",
       "    </tr>\n",
       "    <tr>\n",
       "      <th>9</th>\n",
       "      <td>狀</td>\n",
       "      <td>0.999845</td>\n",
       "      <td>貓</td>\n",
       "      <td>0.999840</td>\n",
       "      <td>眼</td>\n",
       "      <td>0.999851</td>\n",
       "    </tr>\n",
       "  </tbody>\n",
       "</table>\n",
       "</div>"
      ],
      "text/plain": [
       "   人       cos  情       cos  心       cos\n",
       "0  ,  0.999920  ,  0.999928  ,  0.999921\n",
       "1  情  0.999863  子  0.999874  情  0.999870\n",
       "2  心  0.999863  心  0.999870  人  0.999863\n",
       "3  眼  0.999862  人  0.999863  貓  0.999857\n",
       "4  病  0.999852  病  0.999861  症  0.999853\n",
       "5  子  0.999852  時  0.999856  舉  0.999853\n",
       "6  生  0.999850  眼  0.999854  子  0.999852\n",
       "7  症  0.999848  症  0.999846  時  0.999851\n",
       "8  貓  0.999846  家  0.999845  生  0.999851\n",
       "9  狀  0.999845  貓  0.999840  眼  0.999851"
      ]
     },
     "execution_count": 137,
     "metadata": {},
     "output_type": "execute_result"
    }
   ],
   "source": [
    "most_similar(model_d250, ['人','情','心'])"
   ]
  },
  {
   "cell_type": "code",
   "execution_count": 121,
   "metadata": {},
   "outputs": [
    {
     "data": {
      "text/html": [
       "<div>\n",
       "<style scoped>\n",
       "    .dataframe tbody tr th:only-of-type {\n",
       "        vertical-align: middle;\n",
       "    }\n",
       "\n",
       "    .dataframe tbody tr th {\n",
       "        vertical-align: top;\n",
       "    }\n",
       "\n",
       "    .dataframe thead th {\n",
       "        text-align: right;\n",
       "    }\n",
       "</style>\n",
       "<table border=\"1\" class=\"dataframe\">\n",
       "  <thead>\n",
       "    <tr style=\"text-align: right;\">\n",
       "      <th></th>\n",
       "      <th>人</th>\n",
       "      <th>cos</th>\n",
       "    </tr>\n",
       "  </thead>\n",
       "  <tbody>\n",
       "    <tr>\n",
       "      <th>0</th>\n",
       "      <td>,</td>\n",
       "      <td>0.999761</td>\n",
       "    </tr>\n",
       "    <tr>\n",
       "      <th>1</th>\n",
       "      <td>傷</td>\n",
       "      <td>0.999739</td>\n",
       "    </tr>\n",
       "    <tr>\n",
       "      <th>2</th>\n",
       "      <td>換</td>\n",
       "      <td>0.999731</td>\n",
       "    </tr>\n",
       "    <tr>\n",
       "      <th>3</th>\n",
       "      <td>狀</td>\n",
       "      <td>0.999726</td>\n",
       "    </tr>\n",
       "    <tr>\n",
       "      <th>4</th>\n",
       "      <td>學</td>\n",
       "      <td>0.999724</td>\n",
       "    </tr>\n",
       "    <tr>\n",
       "      <th>5</th>\n",
       "      <td>面</td>\n",
       "      <td>0.999721</td>\n",
       "    </tr>\n",
       "    <tr>\n",
       "      <th>6</th>\n",
       "      <td>幫</td>\n",
       "      <td>0.999719</td>\n",
       "    </tr>\n",
       "    <tr>\n",
       "      <th>7</th>\n",
       "      <td>身</td>\n",
       "      <td>0.999719</td>\n",
       "    </tr>\n",
       "    <tr>\n",
       "      <th>8</th>\n",
       "      <td>候</td>\n",
       "      <td>0.999717</td>\n",
       "    </tr>\n",
       "    <tr>\n",
       "      <th>9</th>\n",
       "      <td>眼</td>\n",
       "      <td>0.999712</td>\n",
       "    </tr>\n",
       "  </tbody>\n",
       "</table>\n",
       "</div>"
      ],
      "text/plain": [
       "   人       cos\n",
       "0  ,  0.999761\n",
       "1  傷  0.999739\n",
       "2  換  0.999731\n",
       "3  狀  0.999726\n",
       "4  學  0.999724\n",
       "5  面  0.999721\n",
       "6  幫  0.999719\n",
       "7  身  0.999719\n",
       "8  候  0.999717\n",
       "9  眼  0.999712"
      ]
     },
     "execution_count": 121,
     "metadata": {},
     "output_type": "execute_result"
    }
   ],
   "source": [
    "model_d250_sg = Word2Vec(word, size=250, iter=10, sg=1)\n",
    "most_similar(model_d250_sg, ['人'])"
   ]
  },
  {
   "cell_type": "code",
   "execution_count": 134,
   "metadata": {},
   "outputs": [],
   "source": [
    "#儲存模型\n",
    "model.save('word2vec.model')"
   ]
  },
  {
   "cell_type": "code",
   "execution_count": 135,
   "metadata": {},
   "outputs": [],
   "source": [
    "#讀取模型\n",
    "model_load = Word2Vec.load('word2vec.model')"
   ]
  },
  {
   "cell_type": "code",
   "execution_count": null,
   "metadata": {},
   "outputs": [],
   "source": []
  }
 ],
 "metadata": {
  "kernelspec": {
   "display_name": "Python 3",
   "language": "python",
   "name": "python3"
  },
  "language_info": {
   "codemirror_mode": {
    "name": "ipython",
    "version": 3
   },
   "file_extension": ".py",
   "mimetype": "text/x-python",
   "name": "python",
   "nbconvert_exporter": "python",
   "pygments_lexer": "ipython3",
   "version": "3.7.6"
  }
 },
 "nbformat": 4,
 "nbformat_minor": 4
}
