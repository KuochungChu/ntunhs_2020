{
 "cells": [
  {
   "cell_type": "code",
   "execution_count": 1,
   "metadata": {},
   "outputs": [],
   "source": [
    "import requests,json\n",
    "import pandas as pd\n",
    "\n",
    "requests.packages.urllib3.disable_warnings()"
   ]
  },
  {
   "cell_type": "code",
   "execution_count": 3,
   "metadata": {},
   "outputs": [],
   "source": [
    "headers={\n",
    "    'User-Agent':'Mozilla/5.0 (Windows NT 6.1; Win64; x64; rv:76.0) Gecko/20100101 Firefox/76.0',\n",
    "    'Content-Type':'application/x-www-form-urlencoded; charset=UTF-8',\n",
    "    'Host':'online.carrefour.com.tw'\n",
    "}\n",
    "\n",
    "params={\n",
    "    'pageIndex':6,\n",
    "    'pageSize': 30,\n",
    "    'categoryId':0,\n",
    "    'orderBy':21,\n",
    "    'promotionActivityType':'6'\n",
    "}\n",
    "\n",
    "cookies={\"__BWfp\":\"c1586878832056x71e0a021d\",\"__RequestVerificationToken\":\"htucDxGB-e21CUTlI3dN7mF9gxkM2RSzQmX49Way76EJn_qXfMa_E1psYvdRRWaIGdT-IVS5DcAwil92huzI2NpgE-Q1\",\"_atrk_sessidx\":\"31\",\"_atrk_siteuid\":\"B6s01rAk4inGU00V\",\"_atrk_ssid\":\"RRU11yeUGZ6NiHcvSSOjhG\",\"_fbp\":\"fb.3.1586878700691.285610484\",\"_ga\":\"GA1.1.1955854663.1586878702\",\"_ga_S2ZYHPT0VX\":\"GS1.1.1589218224.1.1.1589220886.52\",\"_gcl_au\":\"1.1.607998144.1586878701\",\"_gid\":\"GA1.3.1296636305.1589218226\",\"_TUCI\":\"sessionNumber+1324&ECId+715&hostname+online.carrefour.com.tw&pageView+1989&productPageView+3000\",\"_TUCI_T\":\"sessionNumber+18377&pageView+18377&productPageView+18366\",\"ai_session\":\"XNFOb|1589218224287|1589220881182\",\"ai_user\":\"5Cowc|2020-04-14T15:38:20.284Z\",\"appier_page_isView_GIohKzimKI4ifM9\":\"d10608f4b3c808b108157d612a3d1f2b174a24960cb681e781542b862dd596ea\",\"appier_pv_counterGIohKzimKI4ifM9\":\"20\",\"appier_utmz\":\"{\\\"csr\\\":\\\"online.carrefour.com.tw\\\",\\\"timestamp\\\":1589218229,\\\"lcsr\\\":\\\"online.carrefour.com.tw\\\"}\",\"BNES___RequestVerificationToken\":\"G5WkRdIngqBTLcV8Ehc4YC4NQyrLAQ/d4OQGhGh7h9JQC5iXFQP0NgAqBnH+1qHrF5TE0KhM172oaepKl2ZfVnEIV6MsDMQBs4wPw6rTUU+Vr7jye0JZ+ab2cscsPZbuak6EA+cWTbiAAhHTlRfp3DxfWT3wDy3oIXSgmgDvKWBKBABoXExVLVTAT7ygPHdryIh/98gjzieAxmVitgQaneft7PXrqLLs\",\"BNES_Carrefour.customer\":\"lWIWX2kDulAuINnFb21EMEpZNNPG5B1nuicUy5+s9MWup8+MH0hq9NwR+CIWx+gXR9Tr33u5NNSPQxB97u4u7AhX3Q3FZg5p5vAPFb90CNu8uah6YRgZ7P68ASUg2gH7CI8aRKWOSYM=\",\"BNES_Carrefour.WebDefault_Address0\":\"2qV8ilTuKJJ63i9lJVPMgtKi02SuKsslXmjUfxnKg+BR/Hlo1AcPKnom9wGr4EYra2JrtAg5oxqbNBR5qZHbXot0pUbOnaNjZjb20F+VfUq4jT+6cF1OPeMmPQ6O1CkBOu1LaWxmnRPLwoaWCQlq+5PfD6stTIYibxOenbsAtZM=\",\"BNES_multilingual_type\":\"J/bZ1kARO2k1c6BSBqGe1c7poNEWOwKQ43ssEKTURJKfEkQP9nuM48V5T0HekYKUe9Up2ssThQQfb4JNFSdZkA==\",\"BNI_carrefourec-persistence\":\"Ltw3a0d7kI2jvU9MAzLXz7-1AteFtk6xX98PQTWbVGzPKPgA-cO8bEbNe8971cMzFT-TKjj-JAlYcjoxPi-SOg==\",\"BNIS___utm_is1\":\"OUZizNoDZrjllUwHqhOmtvP9wSE4YkhxC1Zn+30mE1cKS+t2/UYwCpGdRjyZk06J2TaGHD3IxL8ok/v9329iypYtdy99ZEVjW1ft+zNtsa8IpKYqmRDYzA==\",\"BNIS___utm_is3\":\"e57DOGLK0kH/naWzzjWy3Gt75XlRTscqxmmzRDspciZsaX7Y2ObLaAHglPHQiBg0dd24SXG8oOer+cyOcC7L2pHlr2JJZe1eQC8nSqLgRug=\",\"BNIS_vid\":\"ysz9r6vxWXjaOjl6OUn4429/qpLAWo0qBHN1rUEz83vsJl4RBvYKwfJgDqdpgbViMmUS2RULrXzH3OEXAq2ZDgxx46sINjfv650R38aqWDztdPnsKgyoczznlr2ed6g9QjiTh1UqEknDSIOzLSmEG75FAUktqkzxK+/8nCUokQ0tAQ70NI50mA==\",\"Carrefour.customer\":\"45855cef-1900-46ae-b816-1117224a9bc5\",\"Carrefour.WebDefault_Address0\":\"StoreFrontId=16&ShippingModeId=1&CityId=1&DistrictId=2\",\"cto_bundle\":\"ltvT2V9qUVBMelUyVW05dzk3NTBFJTJGc1BBWnJVV2pvaXhXbkl4NXlKMUxMOEFkcEpIREY1M01sRExVb1dhMEREZ0NkQ0N0Z1hTY3lBcWZxYVZzQzJtcXBZNmhUdGtib2UlMkJ0ZktxSVM0bmFHOUFvWDhSUWM1JTJCdFRhYmYlMkJIcGxld1B1djNaMno3Vjd1eTAzWWVDTVV3c3c3VzFydnk5VjFKYkpheUhsdHA1M204YzBIVEY3QkJaU1MySSUyRjNUNjZOS096OU5q\",\"ins-gaSSId\":\"7ac9cb44-b1aa-17e8-1aa7-f05e714f89db_1589218225\",\"ins-product-id\":\"1508002400101\",\"insdrSV\":\"35\",\"multilingual_type\":\"2\",\"online-carrefour__zc\":\"3.5e95d8f5ddc76211d1543c57.56.0.0.0.\",\"online-carrefour__zc_store\":\"{\\\"cv\\\":null}\",\"online-carrefour__zc_us\":\"5eb98bb1ce58ad11b4e019c6.0.25.1589218225726\",\"QueueITAccepted-SDFrts345E-V3_carrefourtw\":\"EventId=carrefourtw&QueueId=b7bf7251-262a-4374-af40-617862c291cd&RedirectType=safetynet&IssueTime=1589218226&Hash=8388af08c7661563e5cc15c564ebe069e44fa38769685841805e62c807a94c60\"}\n",
    "\n",
    "resp=requests.post('https://online.carrefour.com.tw/ProductShowcase/Catalog/GetSaleProductLists',\\\n",
    "                   headers=headers, params=params, cookies=cookies)"
   ]
  },
  {
   "cell_type": "code",
   "execution_count": 4,
   "metadata": {},
   "outputs": [
    {
     "name": "stdout",
     "output_type": "stream",
     "text": [
      "{\"success\":1,\"content\":{\"CategoryId\":0,\"CurrentCategoryId\":0,\"CurrentCategoryName\":null,\"CurrentCategorySeName\":null,\"ParentCategoryId1\":0,\"ParentCategoryName1\":null,\"ParentCategoryId2\":0,\"ParentCategoryName2\":null,\"ParentCategorySeName2\":null,\"ParentCategoryId3\":0,\"ParentCategoryName3\":null,\"ParentCategorySeName3\":null,\"ParentCategoryName4\":null,\"ParentCategorySeName4\":null,\"IsPromotionAreaPorducts\":false,\"IsNewHomePageProducts\":false,\"IsRewardProducts\":false,\"StoreActivityBasicId\":0,\"ActivityPictureUrl\":null,\"Note\":null,\"NewHomePageId\":0,\"NewHomePageBigTitleId\":0,\"NewHomePageBigTitleName\":null,\"RewardId\":0,\"Key\":null,\"searchCategoryId\":null,\"MetaTitle\":null,\"MetaKeywords\":null,\"MetaDescription\":null,\"ProductListModel\":[],\"LeftCategoryProductCount\":[],\"TopBrandProductCount\":[],\"ProductIds\":null,\"ProductIdsTop20\":null,\"CurrentPageIndex\":6,\"PageSize\":35,\"OrderById\":0,\"Count\":60,\"ProductNumberList\":null,\"AppierProductNumberList\":null,\"Id\":0}}\n"
     ]
    }
   ],
   "source": [
    "if resp.status_code==200:\n",
    "    print(resp.text)\n",
    "else:\n",
    "    print(\"no data\")"
   ]
  },
  {
   "cell_type": "code",
   "execution_count": null,
   "metadata": {},
   "outputs": [],
   "source": [
    "js=json.loads(resp.text)"
   ]
  },
  {
   "cell_type": "code",
   "execution_count": null,
   "metadata": {},
   "outputs": [],
   "source": [
    "columns=['product_name','product_url','product_price']\n",
    "df=pd.DataFrame(columns=columns)\n",
    "\n",
    "for i in js['content']['ProductListModel']:\n",
    "    product_name=i['Name']\n",
    "    product_url='Product url:','https://online.carrefour.com.tw'+i['SeName']\n",
    "    product_price=i['Price']\n",
    "    \n",
    "    input={\"product_name\":product_name,\"product_url\":product_url,\"product_price\":product_price}\n",
    "    df=df.append(input,ignore_index=True)"
   ]
  },
  {
   "cell_type": "code",
   "execution_count": null,
   "metadata": {},
   "outputs": [],
   "source": [
    "df"
   ]
  },
  {
   "cell_type": "code",
   "execution_count": null,
   "metadata": {},
   "outputs": [],
   "source": [
    "df.to_csv('carrefour_bogo.csv',header=True,index=False)"
   ]
  },
  {
   "cell_type": "code",
   "execution_count": null,
   "metadata": {},
   "outputs": [],
   "source": [
    "df"
   ]
  },
  {
   "cell_type": "code",
   "execution_count": null,
   "metadata": {},
   "outputs": [],
   "source": []
  }
 ],
 "metadata": {
  "kernelspec": {
   "display_name": "Python 3",
   "language": "python",
   "name": "python3"
  },
  "language_info": {
   "codemirror_mode": {
    "name": "ipython",
    "version": 3
   },
   "file_extension": ".py",
   "mimetype": "text/x-python",
   "name": "python",
   "nbconvert_exporter": "python",
   "pygments_lexer": "ipython3",
   "version": "3.7.6"
  }
 },
 "nbformat": 4,
 "nbformat_minor": 4
}
